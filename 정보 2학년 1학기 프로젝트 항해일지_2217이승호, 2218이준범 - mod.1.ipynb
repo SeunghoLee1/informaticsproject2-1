{
 "cells": [
  {
   "cell_type": "markdown",
   "metadata": {
    "colab_type": "text",
    "id": "mPGgAFBT4W--"
   },
   "source": [
    "# 항해일지"
   ]
  },
  {
   "cell_type": "markdown",
   "metadata": {
    "colab_type": "text",
    "id": "XuI98h-Z4W_B"
   },
   "source": [
    "연구소장; 2217 이승호\n",
    "연구원; 2218 이준범"
   ]
  },
  {
   "cell_type": "markdown",
   "metadata": {
    "colab_type": "text",
    "id": "SmlYl9vh4W_E"
   },
   "source": [
    "## 2019.04.23 ; 아이디어 회의 "
   ]
  },
  {
   "cell_type": "markdown",
   "metadata": {
    "colab_type": "text",
    "id": "U5wXJVG74W_G"
   },
   "source": [
    " 1. 어떤 고민을 해결할 지 아이디어 회의를 했다.<br><br>\n",
    " 2. 포스트잇에 원하는 아이디어를 여과 없이 적고, 그 중 하나를 정하는 방식으로 아이디어를 산출, 선정하였다.<br>\n",
    "     a. 화학 평형에 대한 이해가 잘 되지 않는 학생의 경우, 공부하다가 스마트폰을 계속 무의식적으로 들춰보는 학생의 경우 등 여러 가지 후보가 나왔다.<br><br>\n",
    " 3. 최종적으로 ‘운형을 넣으면 구름의 모양을 시각화해서 보여주는 프로그램’을 만드는 것으로 결정하였고, 이것이 필요한 사람을 ‘지구과학을 배울 때 구름의 모양 간 차이를 잘 모르겠는 학생’으로 가정하였다."
   ]
  },
  {
   "cell_type": "markdown",
   "metadata": {
    "colab_type": "text",
    "id": "wRmKcbx_4W_I"
   },
   "source": [
    "## 2019.05.14 ; 구름 종류 결정, 특성 할당(높이)"
   ]
  },
  {
   "cell_type": "markdown",
   "metadata": {
    "colab_type": "text",
    "id": "YWHa0fD34W_K"
   },
   "source": [
    " 입력된 텍스트를 분석해 어떤 종류의 구름을 그려야 할지 결정하는 알고리즘을 짰다."
   ]
  },
  {
   "cell_type": "markdown",
   "metadata": {
    "colab_type": "text",
    "id": "bvHHrNJr4W_M"
   },
   "source": [
    " 1. 먼저 한글로 입력하게 되면 konlpy 라이브러리가 필요하고, 구분을 잘 못하는 경우도 있어 영어로 입력하게 하였다.<br><br>\n",
    " 2. input()을 사용해 받은 기본 운형을 접두어로 구분해 구름의 성질을 결정하기로 했다.<br>\n",
    "     a. 현재 기본 운형은 ‘Cirrus’(권운), ‘Cirrocumulus’(권적운), ‘Cirrostratus’(권층운), ‘Altocumulus’(고적운), ‘Altostratus’(고층운), ‘Stratocumulus’(층적운), ‘Stratus’(층운), ‘Nimbostratus’(난층운), ‘Cumulus’(적운), ‘Cumulonimbus’(적란운)의 10종류가 있다.<br>\n",
    "     b. 이는 ‘Cirr’(권), ‘Alto’(고), ‘Strat’(층), ‘Cumul’(적)의 4개의 접두어로 나누어 생각할 수 있다.<br><br>\n",
    " 3. 여기서 우리는 csv를 사용하였는데, csv 파일을 구성하는 한 줄의 형식을 ‘운형의 종류, 높이, 구름의 특성’으로 잡았다.<br>\n",
    "     a. 구름의 운형이 결정되면 그 구름의 특성을 바탕으로 시각화해야 한다. 우리는 구름의 일반적인 특성으로 높이, 구성, 특성을 할당하기로 하고, 또한 특정 운형에만 나타나는 특징들도 할당할 수 있게 하기로 했다.<br>\n",
    "     b. 운형의 종류는 위의 10개 기본 운형을 간단히 줄여 나타낸 것인데, 그래서 위에서 접두어를 구분해 앞글자나 특징 등을 나타내는 한 글자로 줄여 표현해야 했다. 예를 들어 ‘Cirr’는 ‘C’로, ‘Alto’는 ‘A’로,  ‘Strat’는 ‘S’로, ‘Cumul’은 ‘C’로 하면 Cirr과 겹치므로 ‘L’로 하였다.<br>\n",
    "     c. 높이 항목은 높이별로 묶어서 분류하였는데, 예를 들어 권층운, 권운, 권적운은 상층운이라는 뜻으로 ‘U’를 할당하고, 고적운, 고층운은 중층운이라는 뜻으로 ‘M’을 할당하고, 층적운, 층운, 난층운은 하층운이라는 뜻으로 ‘L’을 할당하였다. 수직운인 적운, 적란운은 ‘V’를 할당하였다.<br>\n",
    "     d. 구름의 특성 항목은 그 구름만이 가지는 특성을 표현할 것인데, 아직 구현하지 않았다.<br><br>\n",
    " 4. matplotlib.pyplot 라이브러리를 호출해 그래프로 구름의 운형을 구분할 수 있게 하였는데, xlim, ylim으로 전체 크기를 똑같게, 그래서 구름의 크기를 비교할 수 있게 하였고, 구름의 높이 분포를 scatter 그래프로 표현하였다.<br><br>\n",
    " 5. 코드는 없다(다음에 완성할 것)"
   ]
  },
  {
   "cell_type": "markdown",
   "metadata": {
    "colab_type": "text",
    "id": "QdzltZv24W_O"
   },
   "source": [
    "## 2019.05.21 ; MVP 방향 결정, 완성"
   ]
  },
  {
   "cell_type": "markdown",
   "metadata": {
    "colab_type": "text",
    "id": "APtN_VPZ4W_R"
   },
   "source": [
    "MVP를 어떻게 만들 것인지 결정하고, MVP를 만들었다."
   ]
  },
  {
   "cell_type": "markdown",
   "metadata": {
    "colab_type": "text",
    "id": "gicCgVBa4W_T"
   },
   "source": [
    "1. MVP는 시각화 프로그램 중 구름만의 특성을 시각화하는 것을 제외하고 접두어에 따라 구분해 대략적인 특징만을 보여주는 프로그램으로 결정하였다.<br><br>\n",
    "2. 저번에 이미 대부분을 만들었기 때문에, 실제로 넣어보고 우리가 만족하는 결과가 나오는지 테스트를 통해 문제가 되는 부분을 고쳐 최종적으로 MVP를 완성하였다.<br>\n",
    "    a. 적운과 적란운이 특징이 완전히 다른 문제가 있었다.<br>\n",
    "    b. 적운의 높이가 애매해서 구분하기 위해 모양을 넣었는데, 적운(뭉게구름)만의 특이한 모양을 따로 만드는데 힘들었다.<br>\n",
    "    c. 적란운은 높이와 모양의 특성 다 예외의 수준이라 만들기 힘들다.(아직 구현 X)<br><br>\n",
    "3. 각각의 구름의 모양을 만들 때에는 그 구름의 전형적인 모양을 본따 scatter로 표현하기로 했다.<br><br>\n",
    "4. 구글 드라이브에 이것을 업로드했는데, 구글 드라이브에서 Clouds.csv를 바로 불러 올 수는 없고, Clouds.csv를 다운로드해야 불러올 수 있는 점을 발견했다.<br>\n",
    "  a. 이것은 큰 문제점은 아니지만, Colab에서 Google Drive를 참조하여 파일을 바로 불러올 수 있는 방법이 있어 개선점에 이것을 적용할 것이다.<br><br>"
   ]
  },
  {
   "cell_type": "markdown",
   "metadata": {
    "colab_type": "text",
    "collapsed": true,
    "id": "6222miqM4W_W"
   },
   "source": [
    "### 코드"
   ]
  },
  {
   "cell_type": "code",
   "execution_count": 2,
   "metadata": {
    "colab": {
     "base_uri": "https://localhost:8080/",
     "height": 381
    },
    "colab_type": "code",
    "executionInfo": {
     "elapsed": 23821,
     "status": "ok",
     "timestamp": 1559011441248,
     "user": {
      "displayName": "이승호",
      "photoUrl": "",
      "userId": "14196849012103488958"
     },
     "user_tz": -540
    },
    "id": "pBMrvVBm4W_Z",
    "outputId": "342d974b-aef7-46b6-85dd-394fa3c000c3"
   },
   "outputs": [
    {
     "ename": "FileNotFoundError",
     "evalue": "[Errno 2] No such file or directory: 'Clouds.csv'",
     "output_type": "error",
     "traceback": [
      "\u001b[1;31m---------------------------------------------------------------------------\u001b[0m",
      "\u001b[1;31mFileNotFoundError\u001b[0m                         Traceback (most recent call last)",
      "\u001b[1;32m<ipython-input-2-80a9c70f616f>\u001b[0m in \u001b[0;36m<module>\u001b[1;34m()\u001b[0m\n\u001b[0;32m      5\u001b[0m \u001b[1;33m\u001b[0m\u001b[0m\n\u001b[0;32m      6\u001b[0m \u001b[1;33m\u001b[0m\u001b[0m\n\u001b[1;32m----> 7\u001b[1;33m \u001b[0mf\u001b[0m \u001b[1;33m=\u001b[0m \u001b[0mopen\u001b[0m\u001b[1;33m(\u001b[0m\u001b[1;34m\"Clouds.csv\"\u001b[0m\u001b[1;33m)\u001b[0m \u001b[1;31m#Load data\u001b[0m\u001b[1;33m\u001b[0m\u001b[0m\n\u001b[0m\u001b[0;32m      8\u001b[0m \u001b[0mdata\u001b[0m \u001b[1;33m=\u001b[0m \u001b[0mcsv\u001b[0m\u001b[1;33m.\u001b[0m\u001b[0mreader\u001b[0m\u001b[1;33m(\u001b[0m\u001b[0mf\u001b[0m\u001b[1;33m)\u001b[0m\u001b[1;33m\u001b[0m\u001b[0m\n\u001b[0;32m      9\u001b[0m \u001b[0mdata\u001b[0m \u001b[1;33m=\u001b[0m \u001b[0mlist\u001b[0m\u001b[1;33m(\u001b[0m\u001b[0mdata\u001b[0m\u001b[1;33m)\u001b[0m\u001b[1;33m\u001b[0m\u001b[0m\n",
      "\u001b[1;31mFileNotFoundError\u001b[0m: [Errno 2] No such file or directory: 'Clouds.csv'"
     ]
    }
   ],
   "source": [
    "import csv\n",
    "import numpy as np\n",
    "import matplotlib.pyplot as plt\n",
    "import random as r\n",
    "\n",
    "\n",
    "f = open(\"Clouds.csv\") #Load data\n",
    "data = csv.reader(f)\n",
    "data = list(data)\n",
    "\n",
    "ss='' #The Code of each cloud type\n",
    "\n",
    "def sigmoid(x) :\n",
    "    return 1/(1+np.exp(-x))\n",
    "\n",
    "while True :\n",
    "    p = input(\"Write a name of cloud you want to visualize : \")\n",
    "    k = {'cirr' : 'C', 'alto' : 'A', 'strat' : 'S', 'cumul' : 'L', 'nimb' : 'N'} #Building Blocks of cloud names\n",
    "    for i in k.keys() :\n",
    "        if i in p :\n",
    "            ss += k[i]\n",
    "    if ss != '' :\n",
    "        break\n",
    "        \n",
    "height = '' #How high does the cloud form?\n",
    "thickFactor = 1 #How thick is the cloud?\n",
    "blanket = 3 #How vast does the cloud form?\n",
    "particle = '.' #What form does the droplets have?\n",
    "\n",
    "for col in data :\n",
    "    if col[0] == ss :\n",
    "        print(col[0])\n",
    "        print(col[1])\n",
    "        height = col[1]\n",
    "print(height)\n",
    "\n",
    "#Forked by height\n",
    "if height == \"U\" :\n",
    "    height = 15\n",
    "    thickFactor = 0.5\n",
    "    blanket = 15\n",
    "    particle = 'd'\n",
    "elif height == \"M\" :\n",
    "    height = 6\n",
    "    thickFactor = 1\n",
    "    blanket = 3\n",
    "    particle = 'o'\n",
    "elif height == \"L\" :\n",
    "    height = 2\n",
    "    thickFactor = 2\n",
    "    blanket = 7\n",
    "else :\n",
    "    height = 3\n",
    "    thickFactor = 5\n",
    "    blanket = 6\n",
    "print(height)\n",
    "\n",
    "scat = []\n",
    "k = []\n",
    "for i in range(int(60*thickFactor)) :\n",
    "    if 'S' in ss :\n",
    "        scat.append(height*0.1*r.randrange(9,19,3)*thickFactor-1+r.random()*thickFactor*0.1)\n",
    "    elif 'L' in ss :\n",
    "        scat.append(height+2-np.log(r.random()*thickFactor))\n",
    "    else :\n",
    "        scat.append(height-1+r.random()*thickFactor)\n",
    "    \n",
    "    if 'L' in ss :\n",
    "        k.append(2+np.random.normal()*blanket*0.2)\n",
    "    else :\n",
    "        k.append(2+r.random()*blanket)\n",
    "\n",
    "plt.xlim(left = 0,right = 20)\n",
    "plt.ylim(bottom=0,top=20)\n",
    "    \n",
    "plt.scatter(k,scat,marker=particle)\n",
    "plt.show()"
   ]
  },
  {
   "cell_type": "markdown",
   "metadata": {
    "colab": {},
    "colab_type": "code",
    "id": "gPvISQjv4sIX"
   },
   "source": [
    "## 2019.05.28 ; MVP 개선점 개선, Colab 작동 가능하게 조정"
   ]
  },
  {
   "cell_type": "markdown",
   "metadata": {},
   "source": [
    "MVP를 더 개선하였고, Colab에서 추가적인 다운로드 없어도 가능하게 조정하였다."
   ]
  },
  {
   "cell_type": "markdown",
   "metadata": {},
   "source": [
    " 1. MVP에서 적운과 적란운 등 모양이 제대로 나타나기 어려웠던 구름들에 대한 모양을 해결했다.<br>\n",
    "     a. 적란운의 모양을 확실히 나타나게 조정하였다.<br>\n",
    "     b. 층적운의 높이를 줄이고, 두께를 줄여 운편 하나의 모양을 형상화하였다.<br><br>\n",
    " 2. Colab에서 추가적인 다운로드 없이도 Clouds.csv를 불러올 수 있게 하였다.<br>\n",
    "     a. google.colab 라이브러리에서 drive를 import하여 나의 id로 google drive에 엑세스할 수 있다.<br>\n",
    "     b. 따라서 Clouds.csv 파일을 불러올 수 있다.<br>\n",
    "     c. 그러나 공유 폴더의 이름이 한글인데, 읽히지 않는듯한 단점이 있었다.<br>\n",
    "     d. 공유 폴더를 영어로 하거나 불러올 수 있다면 좋을 것 같다.<br>"
   ]
  },
  {
   "cell_type": "markdown",
   "metadata": {},
   "source": [
    "### 코드\n",
    "1.구글 Colab 연동"
   ]
  },
  {
   "cell_type": "code",
   "execution_count": 0,
   "metadata": {
    "colab": {
     "base_uri": "https://localhost:8080/",
     "height": 131
    },
    "colab_type": "code",
    "executionInfo": {
     "elapsed": 27987,
     "status": "ok",
     "timestamp": 1559010810088,
     "user": {
      "displayName": "이승호",
      "photoUrl": "",
      "userId": "14196849012103488958"
     },
     "user_tz": -540
    },
    "id": "HOnONlu6VoXf",
    "outputId": "7bc6c050-325c-4ac7-c4fb-626cdef4bb8c"
   },
   "outputs": [
    {
     "name": "stdout",
     "output_type": "stream",
     "text": [
      "Go to this URL in a browser: https://accounts.google.com/o/oauth2/auth?client_id=947318989803-6bn6qk8qdgf4n4g3pfee6491hc0brc4i.apps.googleusercontent.com&redirect_uri=urn%3Aietf%3Awg%3Aoauth%3A2.0%3Aoob&scope=email%20https%3A%2F%2Fwww.googleapis.com%2Fauth%2Fdocs.test%20https%3A%2F%2Fwww.googleapis.com%2Fauth%2Fdrive%20https%3A%2F%2Fwww.googleapis.com%2Fauth%2Fdrive.photos.readonly%20https%3A%2F%2Fwww.googleapis.com%2Fauth%2Fpeopleapi.readonly&response_type=code\n",
      "\n",
      "Enter your authorization code:\n",
      "··········\n",
      "Mounted at /content/gdrive\n"
     ]
    }
   ],
   "source": [
    "from google.colab import drive\n",
    "\n",
    "drive.mount('/content/gdrive')"
   ]
  },
  {
   "cell_type": "markdown",
   "metadata": {},
   "source": [
    "2. 개선된 MVP 코드"
   ]
  },
  {
   "cell_type": "code",
   "execution_count": 4,
   "metadata": {},
   "outputs": [
    {
     "ename": "FileNotFoundError",
     "evalue": "[Errno 2] No such file or directory: 'Clouds.csv'",
     "output_type": "error",
     "traceback": [
      "\u001b[1;31m---------------------------------------------------------------------------\u001b[0m",
      "\u001b[1;31mFileNotFoundError\u001b[0m                         Traceback (most recent call last)",
      "\u001b[1;32m<ipython-input-4-83e05a47666a>\u001b[0m in \u001b[0;36m<module>\u001b[1;34m()\u001b[0m\n\u001b[0;32m      5\u001b[0m \u001b[1;33m\u001b[0m\u001b[0m\n\u001b[0;32m      6\u001b[0m \u001b[1;33m\u001b[0m\u001b[0m\n\u001b[1;32m----> 7\u001b[1;33m \u001b[0mf\u001b[0m \u001b[1;33m=\u001b[0m \u001b[0mopen\u001b[0m\u001b[1;33m(\u001b[0m\u001b[1;34m\"Clouds.csv\"\u001b[0m\u001b[1;33m)\u001b[0m \u001b[1;31m#Load data\u001b[0m\u001b[1;33m\u001b[0m\u001b[0m\n\u001b[0m\u001b[0;32m      8\u001b[0m \u001b[0mdata\u001b[0m \u001b[1;33m=\u001b[0m \u001b[0mcsv\u001b[0m\u001b[1;33m.\u001b[0m\u001b[0mreader\u001b[0m\u001b[1;33m(\u001b[0m\u001b[0mf\u001b[0m\u001b[1;33m)\u001b[0m\u001b[1;33m\u001b[0m\u001b[0m\n\u001b[0;32m      9\u001b[0m \u001b[0mdata\u001b[0m \u001b[1;33m=\u001b[0m \u001b[0mlist\u001b[0m\u001b[1;33m(\u001b[0m\u001b[0mdata\u001b[0m\u001b[1;33m)\u001b[0m\u001b[1;33m\u001b[0m\u001b[0m\n",
      "\u001b[1;31mFileNotFoundError\u001b[0m: [Errno 2] No such file or directory: 'Clouds.csv'"
     ]
    }
   ],
   "source": [
    "import csv\n",
    "import numpy as np\n",
    "import matplotlib.pyplot as plt\n",
    "import random as r\n",
    "\n",
    "\n",
    "f = open(\"Clouds.csv\") #Load data\n",
    "data = csv.reader(f)\n",
    "data = list(data)\n",
    "\n",
    "ss='' #The Code of each cloud type\n",
    "\n",
    "while True :\n",
    "    p = input(\"Write a name of cloud you want to visualize : \")\n",
    "    k = {'cirr' : 'C', 'alto' : 'A', 'strat' : 'S', 'cumul' : 'L', 'nimb' : 'N'} #Building Blocks of cloud names\n",
    "    for i in k.keys() :\n",
    "        if i in p :\n",
    "            ss += k[i]\n",
    "    if ss != '' :\n",
    "        break\n",
    "        \n",
    "height = '' #How high does the cloud form?\n",
    "thickFactor = 1 #How thick is the cloud?\n",
    "blanket = 3 #How vast does the cloud form?\n",
    "particle = '.' #What form does the droplets have?\n",
    "\n",
    "for col in data :\n",
    "    if col[0] == ss :\n",
    "        print(col[0])\n",
    "        print(col[1])\n",
    "        height = col[1]\n",
    "print(height)\n",
    "\n",
    "#Forked by height\n",
    "if height == \"U\" :\n",
    "    height = 15\n",
    "    thickFactor = 0.5\n",
    "    blanket = 15\n",
    "    particle = 'd'\n",
    "elif height == \"M\" :\n",
    "    height = 6\n",
    "    thickFactor = 1\n",
    "    blanket = 3\n",
    "    particle = 'o'\n",
    "elif height == \"L\" :\n",
    "    height = 2\n",
    "    thickFactor = 2\n",
    "    blanket = 13\n",
    "else :\n",
    "    height = 3\n",
    "    thickFactor = 5\n",
    "    blanket = 6\n",
    "print(height)\n",
    "\n",
    "if 'N' in ss :\n",
    "    thickFactor = thickFactor*4\n",
    "\n",
    "scat = []\n",
    "k = []\n",
    "for i in range(int(60*thickFactor)) :\n",
    "    \n",
    "    if 'S' in ss :\n",
    "        if 'N' in ss :\n",
    "            thickFactor = 2\n",
    "        scat.append(height-1+r.random()*thickFactor*0.5)\n",
    "        \n",
    "    elif 'L' in ss :\n",
    "        scat.append(height+2-np.log(r.random()*thickFactor))\n",
    "    else :\n",
    "        scat.append(height-1+r.random()*thickFactor)\n",
    "        \n",
    "    \n",
    "    if 'L' in ss :\n",
    "        if 'S' in ss :\n",
    "            k.append(2+r.random()*r.randrange(9,18,4)*np.random.normal())\n",
    "        elif 'N' in ss :\n",
    "            p = scat[i]\n",
    "            k.append(r.uniform(-1,1)*((0.3*(p-5)**2)+2)+5)\n",
    "        else :\n",
    "            k.append(2+np.random.normal()*blanket*0.2)\n",
    "    else :\n",
    "        k.append(2+r.random()*blanket)\n",
    "\n",
    "if 'N' in ss :\n",
    "    if 'L' in ss :\n",
    "        for i in range(len(k)) :\n",
    "            scat[i] = (2.5-scat[i]) + 9\n",
    "\n",
    "\n",
    "\n",
    "plt.xlim(left = 0,right = 20)\n",
    "plt.ylim(bottom=0,top=20)\n",
    "    \n",
    "plt.scatter(k,scat,marker=particle)\n",
    "plt.show()"
   ]
  },
  {
   "cell_type": "markdown",
   "metadata": {},
   "source": [
    "3. 개선된 MVP + Google Colab"
   ]
  },
  {
   "cell_type": "code",
   "execution_count": null,
   "metadata": {},
   "outputs": [],
   "source": [
    "import csv\n",
    "import numpy as np\n",
    "import matplotlib.pyplot as plt\n",
    "import random as r\n",
    "\n",
    "from google.colab import drive\n",
    "\n",
    "drive.mount('/content/gdrive')\n",
    "\n",
    "f = open('/content/gdrive/My Drive/Clouds.csv') #open data\n",
    "data = csv.reader(f)\n",
    "data = list(data)\n",
    "\n",
    "ss='' #The Code of each cloud type\n",
    "\n",
    "while True :\n",
    "    p = input(\"Write a name of cloud you want to visualize : \")\n",
    "    k = {'cirr' : 'C', 'alto' : 'A', 'strat' : 'S', 'cumul' : 'L', 'nimb' : 'N'} #Building Blocks of cloud names\n",
    "    for i in k.keys() :\n",
    "        if i in p :\n",
    "            ss += k[i]\n",
    "    if ss != '' :\n",
    "        break\n",
    "        \n",
    "height = '' #How high does the cloud form?\n",
    "thickFactor = 1 #How thick is the cloud?\n",
    "blanket = 3 #How vast does the cloud form?\n",
    "particle = '.' #What form does the droplets have?\n",
    "\n",
    "for col in data :\n",
    "    if col[0] == ss :\n",
    "        print(col[0])\n",
    "        print(col[1])\n",
    "        height = col[1]\n",
    "print(height)\n",
    "\n",
    "#Forked by height\n",
    "if height == \"U\" :\n",
    "    height = 15\n",
    "    thickFactor = 0.5\n",
    "    blanket = 15\n",
    "    particle = 'd'\n",
    "elif height == \"M\" :\n",
    "    height = 6\n",
    "    thickFactor = 1\n",
    "    blanket = 3\n",
    "    particle = 'o'\n",
    "elif height == \"L\" :\n",
    "    height = 2\n",
    "    thickFactor = 2\n",
    "    blanket = 13\n",
    "else :\n",
    "    height = 3\n",
    "    thickFactor = 5\n",
    "    blanket = 6\n",
    "print(height)\n",
    "\n",
    "if 'N' in ss :\n",
    "    thickFactor = thickFactor*4\n",
    "\n",
    "scat = []\n",
    "k = []\n",
    "for i in range(int(60*thickFactor)) :\n",
    "    \n",
    "    if 'S' in ss :\n",
    "        if 'N' in ss :\n",
    "            thickFactor = 2\n",
    "        scat.append(height-1+r.random()*thickFactor*0.5)\n",
    "        \n",
    "    elif 'L' in ss :\n",
    "        scat.append(height+2-np.log(r.random()*thickFactor))\n",
    "    else :\n",
    "        scat.append(height-1+r.random()*thickFactor)\n",
    "        \n",
    "    \n",
    "    if 'L' in ss :\n",
    "        if 'S' in ss :\n",
    "            k.append(2+r.random()*r.randrange(9,18,4)*np.random.normal())\n",
    "        elif 'N' in ss :\n",
    "            p = scat[i]\n",
    "            k.append(r.uniform(-1,1)*((0.3*(p-5)**2)+2)+5)\n",
    "        else :\n",
    "            k.append(2+np.random.normal()*blanket*0.2)\n",
    "    else :\n",
    "        k.append(2+r.random()*blanket)\n",
    "\n",
    "if 'N' in ss :\n",
    "    if 'L' in ss :\n",
    "        for i in range(len(k)) :\n",
    "            scat[i] = (2.5-scat[i]) + 9\n",
    "\n",
    "\n",
    "\n",
    "plt.xlim(left = 0,right = 20)\n",
    "plt.ylim(bottom=0,top=20)\n",
    "    \n",
    "plt.scatter(k,scat,marker=particle)\n",
    "plt.show()"
   ]
  }
 ],
 "metadata": {
  "colab": {
   "collapsed_sections": [],
   "name": "정보 2학년 1학기 프로젝트 항해일지_2217이승호, 2218이준범.ipynb",
   "provenance": [],
   "version": "0.3.2"
  },
  "kernelspec": {
   "display_name": "Python 3",
   "language": "python",
   "name": "python3"
  },
  "language_info": {
   "codemirror_mode": {
    "name": "ipython",
    "version": 3
   },
   "file_extension": ".py",
   "mimetype": "text/x-python",
   "name": "python",
   "nbconvert_exporter": "python",
   "pygments_lexer": "ipython3",
   "version": "3.7.0"
  }
 },
 "nbformat": 4,
 "nbformat_minor": 1
}
