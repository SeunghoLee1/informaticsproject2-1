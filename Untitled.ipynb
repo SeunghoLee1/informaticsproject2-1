{
 "cells": [
  {
   "cell_type": "code",
   "execution_count": 24,
   "metadata": {},
   "outputs": [
    {
     "name": "stdout",
     "output_type": "stream",
     "text": [
      "Write a name of cloud you want to visualize : cumulonimbus\n",
      "LN\n",
      "V\n",
      "V\n",
      "3\n"
     ]
    },
    {
     "data": {
      "image/png": "[encoded data removed]",
      "text/plain": [
       "<matplotlib.figure.Figure at 0x20266935dd8>"
      ]
     },
     "metadata": {},
     "output_type": "display_data"
    }
   ],
   "source": [
    "import csv\n",
    "import numpy as np\n",
    "import matplotlib.pyplot as plt\n",
    "import random as r\n",
    "\n",
    "\n",
    "\n",
    "f = open(\"Clouds.csv\") #Load data\n",
    "data = csv.reader(f)\n",
    "data = list(data)\n",
    "\n",
    "ss='' #The Code of each cloud type\n",
    "\n",
    "def sigmoid(x) :\n",
    "    return 1/(1+np.exp(-x))\n",
    "\n",
    "while True :\n",
    "    p = input(\"Write a name of cloud you want to visualize : \")\n",
    "    k = {'cirr' : 'C', 'alto' : 'A', 'strat' : 'S', 'cumul' : 'L', 'nimb' : 'N'} #Building Blocks of cloud names\n",
    "    for i in k.keys() :\n",
    "        if i in p :\n",
    "            ss += k[i]\n",
    "    if ss != '' :\n",
    "        break\n",
    "        \n",
    "height = '' #How high does the cloud form?\n",
    "thickFactor = 1 #How thick is the cloud?\n",
    "blanket = 3 #How vast does the cloud form?\n",
    "particle = '.' #What form does the droplets have?\n",
    "\n",
    "for col in data :\n",
    "    if col[0] == ss :\n",
    "        print(col[0])\n",
    "        print(col[1])\n",
    "        height = col[1]\n",
    "print(height)\n",
    "\n",
    "#Forked by height\n",
    "if height == \"U\" :\n",
    "    height = 15\n",
    "    thickFactor = 0.5\n",
    "    blanket = 15\n",
    "    particle = 'd'\n",
    "elif height == \"M\" :\n",
    "    height = 6\n",
    "    thickFactor = 1\n",
    "    blanket = 3\n",
    "    particle = 'o'\n",
    "elif height == \"L\" :\n",
    "    height = 2\n",
    "    thickFactor = 2\n",
    "    blanket = 13\n",
    "else :\n",
    "    height = 3\n",
    "    thickFactor = 5\n",
    "    blanket = 6\n",
    "print(height)\n",
    "\n",
    "if 'N' in ss :\n",
    "    thickFactor *2\n",
    "\n",
    "scat = []\n",
    "k = []\n",
    "for i in range(int(60*thickFactor)) :\n",
    "    \n",
    "    if 'S' in ss :\n",
    "        scat.append(height-1+r.random()*thickFactor*0.5)\n",
    "    elif 'L' in ss :\n",
    "        scat.append(height+2-np.log(r.random()*thickFactor))\n",
    "    else :\n",
    "        scat.append(height-1+r.random()*thickFactor)\n",
    "        \n",
    "    \n",
    "    if 'L' in ss :\n",
    "        if 'S' in ss :\n",
    "            k.append(2+r.random()*r.randrange(9,18,4)*np.random.normal())\n",
    "        else :\n",
    "            k.append(2+np.random.normal()*blanket*0.2)\n",
    "    else :\n",
    "        k.append(2+r.random()*blanket)\n",
    "\n",
    "plt.xlim(left = 0,right = 20)\n",
    "plt.ylim(bottom=0,top=20)\n",
    "    \n",
    "plt.scatter(k,scat,marker=particle)\n",
    "plt.show()"
   ]
  },
  {
   "cell_type": "code",
   "execution_count": null,
   "metadata": {
    "collapsed": true
   },
   "outputs": [],
   "source": []
  }
 ],
 "metadata": {
  "kernelspec": {
   "display_name": "Python 3",
   "language": "python",
   "name": "python3"
  },
  "language_info": {
   "codemirror_mode": {
    "name": "ipython",
    "version": 3
   },
   "file_extension": ".py",
   "mimetype": "text/x-python",
   "name": "python",
   "nbconvert_exporter": "python",
   "pygments_lexer": "ipython3",
   "version": "3.6.3"
  }
 },
 "nbformat": 4,
 "nbformat_minor": 2
}
